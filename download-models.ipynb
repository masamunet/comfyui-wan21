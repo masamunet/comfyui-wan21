{
 "cells": [
  {
   "cell_type": "code",
   "execution_count": 3,
   "metadata": {},
   "outputs": [],
   "source": [
    "import os\n",
    "import subprocess\n",
    "import yaml\n",
    "import concurrent.futures\n",
    "from typing import Dict, List\n",
    "\n",
    "type = os.getenv('TYPE', 'comfyui') # 'comfyui' or 'comfyui_vace' or 'kijai' or 'gguf'\n",
    "mode = os.getenv('MODE', 't2v') # 't2v' or 'i2v' or 'both'\n",
    "resolution = os.getenv('RESOLUTION', 'low') # 'low', 'high', or 'both'\n",
    "download_threads = int(os.getenv('DOWNLOAD_THREADS', 2))"
   ]
  },
  {
   "cell_type": "code",
   "execution_count": 4,
   "metadata": {},
   "outputs": [],
   "source": [
    "def get_url_from_file(file: Dict[str, str]) -> List[str]:\n",
    "    urls = []\n",
    "    if 'url' in file:\n",
    "        urls.append(file['url'])\n",
    "    elif 'low_res' in file and 'high_res' in file:\n",
    "        if resolution == 'low':\n",
    "            urls.append(file['low_res']['url'])\n",
    "        elif resolution == 'high':\n",
    "            urls.append(file['high_res']['url'])\n",
    "        elif resolution == 'both':\n",
    "            urls.append(file['low_res']['url'])\n",
    "            urls.append(file['high_res']['url'])\n",
    "    return urls\n",
    "\n",
    "def download_file(file: Dict[str, str], models_dir: str) -> None:\n",
    "    # ディレクトリが存在しない場合は作成\n",
    "    dir_path = os.path.join(models_dir, file[\"dir\"])\n",
    "    os.makedirs(dir_path, exist_ok=True)\n",
    "    \n",
    "    urls = get_url_from_file(file)\n",
    "    for url in urls:\n",
    "        # ファイル名を取得\n",
    "        filename = os.path.basename(url.split(\"?\")[0])\n",
    "        \n",
    "        # HuggingFaceのblobリンクをrawリンクに変換（必要な場合）\n",
    "        download_url = url\n",
    "        if \"/blob/\" in download_url:\n",
    "            download_url = download_url.replace(\"/blob/\", \"/resolve/\")\n",
    "        \n",
    "        print(f\"Downloading {filename} to {file['dir']}...\")\n",
    "        \n",
    "        # curlコマンドを実行してファイルをダウンロード\n",
    "        cmd = [\"curl\", \"-L\", \"-C\", \"-\", \"-O\", \"--output-dir\", file[\"dir\"], download_url]\n",
    "        subprocess.run(cmd)\n",
    "        \n",
    "        print(f\"Downloaded {filename} to {file['dir']}\")"
   ]
  },
  {
   "cell_type": "code",
   "execution_count": null,
   "metadata": {},
   "outputs": [],
   "source": "os.chdir('/workspace')\n# YAML設定ファイルを読み込む\nwith open('download_models.yaml', 'r') as f:\n    config = yaml.safe_load(f)\n\n# ファイル辞書を初期化（ディレクトリとURLのペアで重複排除）\nfiles_dict = {}\n\ndef add_files_to_dict(file_list):\n    for file_entry in file_list:\n        dir_name = file_entry['dir']\n        if dir_name not in files_dict:\n            files_dict[dir_name] = []\n        \n        # URLを取得してリストに追加\n        urls = get_url_from_file(file_entry)\n        for url in urls:\n            if url not in [existing_url for existing_url in files_dict[dir_name]]:\n                files_dict[dir_name].append(url)\n\n# デフォルトでupscaleファイルを追加\nadd_files_to_dict(config['files']['upscale'])\n\n# typeとmodeに基づいてファイルを追加\nif type == 'comfyui':\n    add_files_to_dict(config['files']['comfyui_common'])\n    if mode == 't2v':\n        add_files_to_dict(config['files']['comfyui_t2v'])\n    elif mode == 'i2v':\n        add_files_to_dict(config['files']['comfyui_i2v'])\n    elif mode == 'both':\n        add_files_to_dict(config['files']['comfyui_t2v'])\n        add_files_to_dict(config['files']['comfyui_i2v'])\nelif type == 'comfyui_vace':\n    add_files_to_dict(config['files']['comfyui_common'])\n    if mode == 't2v':\n        add_files_to_dict(config['files']['comfyui_vace_t2v'])\n    elif mode == 'i2v':\n        add_files_to_dict(config['files']['comfyui_vace_i2v'])\n    elif mode == 'both':\n        add_files_to_dict(config['files']['comfyui_vace_t2v'])\n        add_files_to_dict(config['files']['comfyui_vace_i2v'])\nelif type == 'kijai':\n    add_files_to_dict(config['files']['kijai_common'])\n    if mode == 't2v':\n        add_files_to_dict(config['files']['kijai_t2v'])\n    elif mode == 'i2v':\n        add_files_to_dict(config['files']['kijai_i2v'])\n    elif mode == 'both':\n        add_files_to_dict(config['files']['kijai_t2v'])\n        add_files_to_dict(config['files']['kijai_i2v'])\nelif type == 'ccuf':\n    add_files_to_dict(config['files']['ccuf_common'])\n    if mode == 't2v':\n        add_files_to_dict(config['files']['ccuf_t2v'])\n    elif mode == 'i2v':\n        add_files_to_dict(config['files']['ccuf_i2v'])\n    elif mode == 'both':\n        add_files_to_dict(config['files']['ccuf_t2v'])\n        add_files_to_dict(config['files']['ccuf_i2v'])\n\n# /workspace/ComfyUI/models に移動\nmodels_dir = \"/workspace/ComfyUI/models\"\nos.makedirs(models_dir, exist_ok=True)\nos.chdir(models_dir)\n\n# 並列ダウンロードを実行\ndef download_url_to_dir(dir_name, url):\n    # ディレクトリが存在しない場合は作成\n    dir_path = os.path.join(models_dir, dir_name)\n    os.makedirs(dir_path, exist_ok=True)\n    \n    # ファイル名を取得\n    filename = os.path.basename(url.split(\"?\")[0])\n    \n    # HuggingFaceのblobリンクをrawリンクに変換（必要な場合）\n    download_url = url\n    if \"/blob/\" in download_url:\n        download_url = download_url.replace(\"/blob/\", \"/resolve/\")\n    \n    print(f\"Downloading {filename} to {dir_name}...\")\n    \n    # curlコマンドを実行してファイルをダウンロード\n    cmd = [\"curl\", \"-L\", \"-C\", \"-\", \"-O\", \"--output-dir\", dir_name, download_url]\n    subprocess.run(cmd)\n    \n    print(f\"Downloaded {filename} to {dir_name}\")\n\n# すべてのファイルを並列ダウンロード\ndownload_tasks = []\nfor dir_name, urls in files_dict.items():\n    for url in urls:\n        download_tasks.append((dir_name, url))\n\nwith concurrent.futures.ThreadPoolExecutor(max_workers=download_threads) as executor:\n    # 各ファイルのダウンロードをスケジュール\n    futures = [executor.submit(download_url_to_dir, dir_name, url) for dir_name, url in download_tasks]\n    # すべてのダウンロードが完了するまで待機\n    concurrent.futures.wait(futures)\n\nprint(\"All files downloaded successfully!\")"
  }
 ],
 "metadata": {
  "kernelspec": {
   "display_name": "Python 3",
   "language": "python",
   "name": "python3"
  },
  "language_info": {
   "codemirror_mode": {
    "name": "ipython",
    "version": 3
   },
   "file_extension": ".py",
   "mimetype": "text/x-python",
   "name": "python",
   "nbconvert_exporter": "python",
   "pygments_lexer": "ipython3",
   "version": "3.10.17"
  }
 },
 "nbformat": 4,
 "nbformat_minor": 2
}