{
 "cells": [
  {
   "cell_type": "code",
   "execution_count": null,
   "metadata": {
    "vscode": {
     "languageId": "plaintext"
    }
   },
   "outputs": [],
   "source": [
    "files = (\n",
    "  { \"dir\": \"diffusion_models\", \"url\": \"https://huggingface.co/city96/Wan2.1-T2V-14B-gguf/resolve/main/wan2.1-t2v-14b-Q8_0.gguf\", },\n",
    "  { \"dir\": \"clip\", \"url\": \"https://huggingface.co/Comfy-Org/Wan_2.1_ComfyUI_repackaged/resolve/main/split_files/text_encoders/umt5_xxl_fp8_e4m3fn_scaled.safetensors\", },\n",
    "  { \"dir\": \"clip_vision\", \"url\": \"https://huggingface.co/Comfy-Org/Wan_2.1_ComfyUI_repackaged/resolve/main/split_files/clip_vision/clip_vision_h.safetensors\", },\n",
    "  { \"dir\": \"upscale_models\", \"url\": \"https://huggingface.co/FacehugmanIII/4x_foolhardy_Remacri/resolve/main/4x_foolhardy_Remacri.pth\", },\n",
    "  { \"dir\": \"vae\", \"url\": \"https://huggingface.co/Comfy-Org/Wan_2.1_ComfyUI_repackaged/resolve/main/split_files/vae/wan_2.1_vae.safetensors\", },\n",
    ")\n",
    "\n",
    "import os\n",
    "import subprocess\n",
    "\n",
    "# /workspace/ComfyUI/models に移動\n",
    "models_dir = \"/workspace/ComfyUI/models\"\n",
    "os.makedirs(models_dir, exist_ok=True)\n",
    "os.chdir(models_dir)\n",
    "\n",
    "# filesをイテレートしながらディレクトリを作成し、ファイルをダウンロード\n",
    "for file in files:\n",
    "    # ディレクトリが存在しない場合は作成\n",
    "    dir_path = os.path.join(models_dir, file[\"dir\"])\n",
    "    os.makedirs(dir_path, exist_ok=True)\n",
    "    \n",
    "    # ファイル名を取得\n",
    "    filename = os.path.basename(file[\"url\"].split(\"?\")[0])\n",
    "    \n",
    "    # HuggingFaceのblobリンクをrawリンクに変換（必要な場合）\n",
    "    download_url = file[\"url\"]\n",
    "    if \"/blob/\" in download_url:\n",
    "        download_url = download_url.replace(\"/blob/\", \"/resolve/\")\n",
    "    \n",
    "    print(f\"Downloading {filename} to {file['dir']}...\")\n",
    "    \n",
    "    # curlコマンドを実行してファイルをダウンロード\n",
    "    cmd = [\"curl\", \"-L\", \"-C\", \"-\", \"-O\", \"--output-dir\", file[\"dir\"], download_url]\n",
    "    subprocess.run(cmd)\n",
    "    \n",
    "    print(f\"Downloaded {filename} to {file['dir']}\")\n",
    "\n",
    "print(\"All files downloaded successfully!\")"
   ]
  }
 ],
 "metadata": {
  "language_info": {
   "name": "python"
  }
 },
 "nbformat": 4,
 "nbformat_minor": 2
}
