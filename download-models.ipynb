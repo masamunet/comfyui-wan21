{
 "cells": [
  {
   "cell_type": "code",
   "execution_count": null,
   "metadata": {
    "vscode": {
     "languageId": "plaintext"
    }
   },
   "outputs": [],
   "source": [
    "type = TYPE # 'comfyui' or 'kijai' or 'gguf'\n",
    "mode = MODE # 't2v' or 'i2v'"
   ]
  },
  {
   "cell_type": "code",
   "execution_count": null,
   "metadata": {
    "vscode": {
     "languageId": "plaintext"
    }
   },
   "outputs": [],
   "source": [
    "import os\n",
    "import subprocess\n",
    "import yaml\n",
    "\n",
    "\n",
    "   # YAML設定ファイルを読み込む\n",
    "   with open('download_models.yaml', 'r') as f:\n",
    "       config = yaml.safe_load(f)\n",
    "\n",
    "   # 空のファイルリストを初期化\n",
    "   files = []\n",
    "\n",
    "   # デフォルトでupscaleファイルを追加\n",
    "   files.extend(config['files']['upscale'])\n",
    "\n",
    "   # typeとmodeに基づいてファイルを追加\n",
    "   if type == 'comfyui':\n",
    "       files.extend(config['files']['comfyui_common'])\n",
    "       if mode == 't2v':\n",
    "           files.extend(config['files']['comfyui_t2v'])\n",
    "       elif mode == 'i2v':\n",
    "           files.extend(config['files']['comfyui_i2v'])\n",
    "   elif type == 'kijai':\n",
    "       files.extend(config['files']['kijai_common'])\n",
    "       if mode == 't2v':\n",
    "           files.extend(config['files']['kijai_t2v'])\n",
    "       elif mode == 'i2v':\n",
    "           files.extend(config['files']['kijai_i2v'])\n",
    "   elif type == 'ccuf':\n",
    "       files.extend(config['files']['ccuf_common'])\n",
    "       if mode == 't2v':\n",
    "           files.extend(config['files']['ccuf_t2v'])\n",
    "       elif mode == 'i2v':\n",
    "           files.extend(config['files']['ccuf_i2v'])\n",
    "\n",
    "\n",
    "# /workspace/ComfyUI/models に移動\n",
    "models_dir = \"/workspace/ComfyUI/models\"\n",
    "os.makedirs(models_dir, exist_ok=True)\n",
    "os.chdir(models_dir)\n",
    "\n",
    "# filesをイテレートしながらディレクトリを作成し、ファイルをダウンロード\n",
    "for file in files:\n",
    "    # ディレクトリが存在しない場合は作成\n",
    "    dir_path = os.path.join(models_dir, file[\"dir\"])\n",
    "    os.makedirs(dir_path, exist_ok=True)\n",
    "    \n",
    "    # ファイル名を取得\n",
    "    filename = os.path.basename(file[\"url\"].split(\"?\")[0])\n",
    "    \n",
    "    # HuggingFaceのblobリンクをrawリンクに変換（必要な場合）\n",
    "    download_url = file[\"url\"]\n",
    "    if \"/blob/\" in download_url:\n",
    "        download_url = download_url.replace(\"/blob/\", \"/resolve/\")\n",
    "    \n",
    "    print(f\"Downloading {filename} to {file['dir']}...\")\n",
    "    \n",
    "    # curlコマンドを実行してファイルをダウンロード\n",
    "    cmd = [\"curl\", \"-L\", \"-C\", \"-\", \"-O\", \"--output-dir\", file[\"dir\"], download_url]\n",
    "    subprocess.run(cmd)\n",
    "    \n",
    "    print(f\"Downloaded {filename} to {file['dir']}\")\n",
    "\n",
    "print(\"All files downloaded successfully!\")"
   ]
  }
 ],
 "metadata": {
  "language_info": {
   "name": "python"
  }
 },
 "nbformat": 4,
 "nbformat_minor": 2
}
