{
 "cells": [
  {
   "cell_type": "code",
   "execution_count": null,
   "metadata": {
    "vscode": {
     "languageId": "plaintext"
    }
   },
   "outputs": [],
   "source": [
    "import os\n",
    "import subprocess\n",
    "import yaml\n",
    "import concurrent.futures\n",
    "from typing import Dict, List\n",
    "\n",
    "type = os.getenv('TYPE', 'comfyui') # 'comfyui' or 'comfyui_vace' or 'kijai' or 'gguf'\n",
    "mode = os.getenv('MODE', 't2v') # 't2v' or 'i2v' or 'both'\n",
    "resolution = os.getenv('RESOLUTION', 'low') # 'low', 'high', or 'both'\n",
    "download_threads = int(os.getenv('DOWNLOAD_THREADS', 2))"
   ]
  },
  {
   "cell_type": "code",
   "execution_count": null,
   "metadata": {
    "vscode": {
     "languageId": "plaintext"
    }
   },
   "outputs": [],
   "source": [
    "def get_url_from_file(file: Dict[str, str]) -> List[str]:\n",
    "    urls = []\n",
    "    if 'url' in file:\n",
    "        urls.append(file['url'])\n",
    "    elif 'low_res' in file and 'high_res' in file:\n",
    "        if resolution == 'low':\n",
    "            urls.append(file['low_res']['url'])\n",
    "        elif resolution == 'high':\n",
    "            urls.append(file['high_res']['url'])\n",
    "        elif resolution == 'both':\n",
    "            urls.append(file['low_res']['url'])\n",
    "            urls.append(file['high_res']['url'])\n",
    "    return urls\n",
    "\n",
    "def download_file(file: Dict[str, str], models_dir: str) -> None:\n",
    "    # ディレクトリが存在しない場合は作成\n",
    "    dir_path = os.path.join(models_dir, file[\"dir\"])\n",
    "    os.makedirs(dir_path, exist_ok=True)\n",
    "    \n",
    "    urls = get_url_from_file(file)\n",
    "    for url in urls:\n",
    "        # ファイル名を取得\n",
    "        filename = os.path.basename(url.split(\"?\")[0])\n",
    "        \n",
    "        # HuggingFaceのblobリンクをrawリンクに変換（必要な場合）\n",
    "        download_url = url\n",
    "        if \"/blob/\" in download_url:\n",
    "            download_url = download_url.replace(\"/blob/\", \"/resolve/\")\n",
    "        \n",
    "        print(f\"Downloading {filename} to {file['dir']}...\")\n",
    "        \n",
    "        # curlコマンドを実行してファイルをダウンロード\n",
    "        cmd = [\"curl\", \"-L\", \"-C\", \"-\", \"-O\", \"--output-dir\", file[\"dir\"], download_url]\n",
    "        subprocess.run(cmd)\n",
    "        \n",
    "        print(f\"Downloaded {filename} to {file['dir']}\")"
   ]
  },
  {
   "cell_type": "code",
   "metadata": {
    "vscode": {
     "languageId": "plaintext"
    }
   },
   "outputs": [],
   "source": "os.chdir('/workspace')\n# YAML設定ファイルを読み込む\nwith open('download_models.yaml', 'r') as f:\n    config = yaml.safe_load(f)\n\n# 空のファイルリストを初期化\nfiles = []\n\n# デフォルトでupscaleファイルを追加\nfiles.extend(config['files']['upscale'])\n\n# typeとmodeに基づいてファイルを追加\nif type == 'comfyui':\n    files.extend(config['files']['comfyui_common'])\n    if mode == 't2v':\n        files.extend(config['files']['comfyui_t2v'])\n    elif mode == 'i2v':\n        files.extend(config['files']['comfyui_i2v'])\n    elif mode == 'both':\n        files.extend(config['files']['comfyui_t2v'])\n        files.extend(config['files']['comfyui_i2v'])\nelif type == 'comfyui_vace':\n    files.extend(config['files']['comfyui_common'])\n    if mode == 't2v':\n        files.extend(config['files']['comfyui_vace_t2v'])\n    elif mode == 'i2v':\n        files.extend(config['files']['comfyui_vace_i2v'])\n    elif mode == 'both':\n        files.extend(config['files']['comfyui_vace_t2v'])\n        files.extend(config['files']['comfyui_vace_i2v'])\nelif type == 'kijai':\n    files.extend(config['files']['kijai_common'])\n    if mode == 't2v':\n        files.extend(config['files']['kijai_t2v'])\n    elif mode == 'i2v':\n        files.extend(config['files']['kijai_i2v'])\n    elif mode == 'both':\n        files.extend(config['files']['kijai_t2v'])\n        files.extend(config['files']['kijai_i2v'])\nelif type == 'ccuf':\n    files.extend(config['files']['ccuf_common'])\n    if mode == 't2v':\n        files.extend(config['files']['ccuf_t2v'])\n    elif mode == 'i2v':\n        files.extend(config['files']['ccuf_i2v'])\n    elif mode == 'both':\n        files.extend(config['files']['ccuf_t2v'])\n        files.extend(config['files']['ccuf_i2v'])\n\n\n# /workspace/ComfyUI/models に移動\nmodels_dir = \"/workspace/ComfyUI/models\"\nos.makedirs(models_dir, exist_ok=True)\nos.chdir(models_dir)\n\n# 並列ダウンロードを実行\nwith concurrent.futures.ThreadPoolExecutor(max_workers=download_threads) as executor:\n    # 各ファイルのダウンロードをスケジュール\n    futures = [executor.submit(download_file, file, models_dir) for file in files]\n    # すべてのダウンロードが完了するまで待機\n    concurrent.futures.wait(futures)\n\nprint(\"All files downloaded successfully!\")"
  }
 ],
 "metadata": {
  "language_info": {
   "name": "python"
  }
 },
 "nbformat": 4,
 "nbformat_minor": 2
}