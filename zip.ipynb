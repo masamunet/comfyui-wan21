{
 "cells": [
  {
   "cell_type": "code",
   "execution_count": null,
   "id": "d7b07bf7",
   "metadata": {},
   "outputs": [],
   "source": [
    "import os\n",
    "import subprocess\n",
    "from datetime import datetime\n",
    "\n",
    "# 圧縮対象のディレクトリ\n",
    "input_dir = \"/workspace/ComfyUI/output\"\n",
    "\n",
    "# 出力先ファイル名（日時付き）\n",
    "timestamp = datetime.now().strftime(\"%Y%m%d_%H%M%S\")\n",
    "output_file = f\"/workspace/output_{timestamp}.7z\"\n",
    "\n",
    "# 7zコマンド（必要に応じてフルパスに変更可）\n",
    "seven_zip_command = \"7z\"  # 例: \"7za\" や \"7zr\" などでも可\n",
    "\n",
    "# 圧縮コマンドを実行\n",
    "try:\n",
    "    result = subprocess.run(\n",
    "        [seven_zip_command, 'a', output_file, input_dir],\n",
    "        check=True,\n",
    "        stdout=subprocess.PIPE,\n",
    "        stderr=subprocess.PIPE,\n",
    "        text=True\n",
    "    )\n",
    "    print(\"圧縮成功:\", output_file)\n",
    "    print(result.stdout)\n",
    "except subprocess.CalledProcessError as e:\n",
    "    print(\"圧縮に失敗しました\")\n",
    "    print(e.stderr)"
   ]
  }
 ],
 "metadata": {
  "language_info": {
   "name": "python"
  }
 },
 "nbformat": 4,
 "nbformat_minor": 5
}
