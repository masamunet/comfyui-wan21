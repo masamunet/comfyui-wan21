{
 "cells": [
  {
   "cell_type": "code",
   "execution_count": null,
   "id": "35556abb",
   "metadata": {},
   "outputs": [],
   "source": [
    "import os\n",
    "\n",
    "civitai_api_key = os.getenv('CIVITAI_API_KEY')\n",
    "lora_id = 0000000\n",
    "!python3 /CivitAI_Downloader/download.py -t {civitai_api_key} -m {lora_id} -o /workspace/ComfyUI/models/loras"
   ]
  }
 ],
 "metadata": {
  "language_info": {
   "name": "python"
  }
 },
 "nbformat": 4,
 "nbformat_minor": 5
}
